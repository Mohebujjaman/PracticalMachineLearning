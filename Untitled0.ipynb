{
  "nbformat": 4,
  "nbformat_minor": 0,
  "metadata": {
    "colab": {
      "name": "Untitled0.ipynb",
      "provenance": [],
      "authorship_tag": "ABX9TyMuEsNMtSXSMf2JGmFiaxKe",
      "include_colab_link": true
    },
    "kernelspec": {
      "name": "python3",
      "display_name": "Python 3"
    },
    "language_info": {
      "name": "python"
    }
  },
  "cells": [
    {
      "cell_type": "markdown",
      "metadata": {
        "id": "view-in-github",
        "colab_type": "text"
      },
      "source": [
        "<a href=\"https://colab.research.google.com/github/Mohebujjaman/PracticalMachineLearning/blob/master/Untitled0.ipynb\" target=\"_parent\"><img src=\"https://colab.research.google.com/assets/colab-badge.svg\" alt=\"Open In Colab\"/></a>"
      ]
    },
    {
      "cell_type": "code",
      "metadata": {
        "colab": {
          "base_uri": "https://localhost:8080/"
        },
        "id": "MPIO0U5ldKyL",
        "outputId": "29737268-545e-4380-a413-1dfd4bd759e3"
      },
      "source": [
        "import torch\n",
        "t1=torch.tensor(4)\n",
        "t1"
      ],
      "execution_count": 3,
      "outputs": [
        {
          "output_type": "execute_result",
          "data": {
            "text/plain": [
              "tensor(4)"
            ]
          },
          "metadata": {},
          "execution_count": 3
        }
      ]
    },
    {
      "cell_type": "code",
      "metadata": {
        "colab": {
          "base_uri": "https://localhost:8080/"
        },
        "id": "EjansVGGhVo1",
        "outputId": "33b1dd29-f7b4-4ca7-9b29-c4785217b1ca"
      },
      "source": [
        "t1.dtype"
      ],
      "execution_count": 8,
      "outputs": [
        {
          "output_type": "execute_result",
          "data": {
            "text/plain": [
              "torch.int64"
            ]
          },
          "metadata": {},
          "execution_count": 8
        }
      ]
    },
    {
      "cell_type": "code",
      "metadata": {
        "colab": {
          "base_uri": "https://localhost:8080/"
        },
        "id": "Era_sZ5Ohfai",
        "outputId": "c6870047-20c7-4591-8c19-25d48f92ba8d"
      },
      "source": [
        "t2=torch.tensor([1.0,2,3,4])\n",
        "t2"
      ],
      "execution_count": 10,
      "outputs": [
        {
          "output_type": "execute_result",
          "data": {
            "text/plain": [
              "tensor([1., 2., 3., 4.])"
            ]
          },
          "metadata": {},
          "execution_count": 10
        }
      ]
    },
    {
      "cell_type": "code",
      "metadata": {
        "colab": {
          "base_uri": "https://localhost:8080/"
        },
        "id": "o3CUxZFVh4Tz",
        "outputId": "a2d3330e-78dc-4393-c53c-25817adaf4bc"
      },
      "source": [
        "t3=torch.tensor([[5.0,6],[7,8],[9,10]])\n",
        "t3"
      ],
      "execution_count": 12,
      "outputs": [
        {
          "output_type": "execute_result",
          "data": {
            "text/plain": [
              "tensor([[ 5.,  6.],\n",
              "        [ 7.,  8.],\n",
              "        [ 9., 10.]])"
            ]
          },
          "metadata": {},
          "execution_count": 12
        }
      ]
    },
    {
      "cell_type": "code",
      "metadata": {
        "colab": {
          "base_uri": "https://localhost:8080/"
        },
        "id": "JsA_PpC9iUln",
        "outputId": "6af974f6-d542-4278-cbe3-269060a279a0"
      },
      "source": [
        "t4=torch.tensor([[[1.0,2,3],[4,5,6]],[[7,8,9],[0,1,2]],[[7,0,9],[0,-1,2]]])\n",
        "t4"
      ],
      "execution_count": 14,
      "outputs": [
        {
          "output_type": "execute_result",
          "data": {
            "text/plain": [
              "tensor([[[ 1.,  2.,  3.],\n",
              "         [ 4.,  5.,  6.]],\n",
              "\n",
              "        [[ 7.,  8.,  9.],\n",
              "         [ 0.,  1.,  2.]],\n",
              "\n",
              "        [[ 7.,  0.,  9.],\n",
              "         [ 0., -1.,  2.]]])"
            ]
          },
          "metadata": {},
          "execution_count": 14
        }
      ]
    },
    {
      "cell_type": "code",
      "metadata": {
        "colab": {
          "base_uri": "https://localhost:8080/"
        },
        "id": "2hth7tWpks8R",
        "outputId": "caa02ab6-423a-4781-bb4a-abdfa861c3b7"
      },
      "source": [
        "t4.shape"
      ],
      "execution_count": 20,
      "outputs": [
        {
          "output_type": "execute_result",
          "data": {
            "text/plain": [
              "torch.Size([3, 2, 3])"
            ]
          },
          "metadata": {},
          "execution_count": 20
        }
      ]
    },
    {
      "cell_type": "code",
      "metadata": {
        "id": "XQBv8vvwmZnx"
      },
      "source": [
        "x=torch.tensor(4.0)\n",
        "y=torch.tensor(5.0,requires_grad=True)\n",
        "w=torch.tensor(7.0,requires_grad=True)"
      ],
      "execution_count": 21,
      "outputs": []
    },
    {
      "cell_type": "code",
      "metadata": {
        "colab": {
          "base_uri": "https://localhost:8080/"
        },
        "id": "KLnRZx2toWhj",
        "outputId": "a11e0120-7440-42bd-8f9e-dccbdcde590d"
      },
      "source": [
        "z=x+y*w\n",
        "z"
      ],
      "execution_count": 22,
      "outputs": [
        {
          "output_type": "execute_result",
          "data": {
            "text/plain": [
              "tensor(39., grad_fn=<AddBackward0>)"
            ]
          },
          "metadata": {},
          "execution_count": 22
        }
      ]
    },
    {
      "cell_type": "code",
      "metadata": {
        "id": "9lH-9MKCpY7a"
      },
      "source": [
        "z.backward()"
      ],
      "execution_count": 23,
      "outputs": []
    },
    {
      "cell_type": "code",
      "metadata": {
        "colab": {
          "base_uri": "https://localhost:8080/"
        },
        "id": "GTogxlElpwL_",
        "outputId": "e97c277a-711d-4ab3-c3a4-46dd420c54c8"
      },
      "source": [
        "print('dz/dx=',x.grad)\n",
        "print('dz/dx=',y.grad)\n",
        "print('dz/dx=',w.grad)"
      ],
      "execution_count": 25,
      "outputs": [
        {
          "output_type": "stream",
          "name": "stdout",
          "text": [
            "dz/dx= None\n",
            "dz/dx= tensor(7.)\n",
            "dz/dx= tensor(5.)\n"
          ]
        }
      ]
    },
    {
      "cell_type": "code",
      "metadata": {
        "colab": {
          "base_uri": "https://localhost:8080/"
        },
        "id": "AuEvc1rIq5ug",
        "outputId": "b15d0e03-b7bc-4ac1-8dda-24603da8355b"
      },
      "source": [
        "t5=torch.full((3,2),10)\n",
        "t5"
      ],
      "execution_count": 27,
      "outputs": [
        {
          "output_type": "execute_result",
          "data": {
            "text/plain": [
              "tensor([[10, 10],\n",
              "        [10, 10],\n",
              "        [10, 10]])"
            ]
          },
          "metadata": {},
          "execution_count": 27
        }
      ]
    },
    {
      "cell_type": "code",
      "metadata": {
        "colab": {
          "base_uri": "https://localhost:8080/"
        },
        "id": "k2qiyRw7vUqe",
        "outputId": "7f8954a0-e872-4c25-e5f2-88cbce29f56c"
      },
      "source": [
        "t6=torch.cat((t3,t5))\n",
        "t6"
      ],
      "execution_count": 29,
      "outputs": [
        {
          "output_type": "execute_result",
          "data": {
            "text/plain": [
              "tensor([[ 5.,  6.],\n",
              "        [ 7.,  8.],\n",
              "        [ 9., 10.],\n",
              "        [10., 10.],\n",
              "        [10., 10.],\n",
              "        [10., 10.]])"
            ]
          },
          "metadata": {},
          "execution_count": 29
        }
      ]
    },
    {
      "cell_type": "code",
      "metadata": {
        "colab": {
          "base_uri": "https://localhost:8080/"
        },
        "id": "NXFWkvVnvrtT",
        "outputId": "e5a8a168-8b86-4357-aa21-d2d1b64b3e7d"
      },
      "source": [
        "t6.shape"
      ],
      "execution_count": 31,
      "outputs": [
        {
          "output_type": "execute_result",
          "data": {
            "text/plain": [
              "torch.Size([6, 2])"
            ]
          },
          "metadata": {},
          "execution_count": 31
        }
      ]
    },
    {
      "cell_type": "code",
      "metadata": {
        "id": "SH34jaqQw_CL"
      },
      "source": [
        "import numpy as np"
      ],
      "execution_count": 4,
      "outputs": []
    },
    {
      "cell_type": "code",
      "metadata": {
        "id": "9sIKQJ_JxFMb"
      },
      "source": [
        ""
      ],
      "execution_count": null,
      "outputs": []
    },
    {
      "cell_type": "code",
      "metadata": {
        "colab": {
          "base_uri": "https://localhost:8080/"
        },
        "id": "LRLvihSUxYhX",
        "outputId": "6dfbaa11-85a1-4a19-8d19-edc5f009e667"
      },
      "source": [
        "x=np.array([[1,2.0],[3,2]])\n",
        "x"
      ],
      "execution_count": 5,
      "outputs": [
        {
          "output_type": "execute_result",
          "data": {
            "text/plain": [
              "array([[1., 2.],\n",
              "       [3., 2.]])"
            ]
          },
          "metadata": {},
          "execution_count": 5
        }
      ]
    },
    {
      "cell_type": "code",
      "metadata": {
        "colab": {
          "base_uri": "https://localhost:8080/"
        },
        "id": "BM4OysEHxt8-",
        "outputId": "641ed95a-deb2-415f-ca21-8e4352718d38"
      },
      "source": [
        "y=torch.from_numpy(x)\n",
        "y"
      ],
      "execution_count": 34,
      "outputs": [
        {
          "output_type": "execute_result",
          "data": {
            "text/plain": [
              "tensor([[1., 2.],\n",
              "        [3., 2.]], dtype=torch.float64)"
            ]
          },
          "metadata": {},
          "execution_count": 34
        }
      ]
    },
    {
      "cell_type": "code",
      "metadata": {
        "colab": {
          "base_uri": "https://localhost:8080/"
        },
        "id": "7XaaXBmSx3qx",
        "outputId": "8bc866b0-36df-4318-87e5-4bc93e50950b"
      },
      "source": [
        "x.dtype,y.dtype"
      ],
      "execution_count": 35,
      "outputs": [
        {
          "output_type": "execute_result",
          "data": {
            "text/plain": [
              "(dtype('float64'), torch.float64)"
            ]
          },
          "metadata": {},
          "execution_count": 35
        }
      ]
    },
    {
      "cell_type": "code",
      "metadata": {
        "colab": {
          "base_uri": "https://localhost:8080/"
        },
        "id": "TllU2ZZCyIJt",
        "outputId": "d5d45c91-f835-4948-8da5-6bc899fc22dc"
      },
      "source": [
        "z=y.numpy()\n",
        "z"
      ],
      "execution_count": 36,
      "outputs": [
        {
          "output_type": "execute_result",
          "data": {
            "text/plain": [
              "array([[1., 2.],\n",
              "       [3., 2.]])"
            ]
          },
          "metadata": {},
          "execution_count": 36
        }
      ]
    },
    {
      "cell_type": "code",
      "metadata": {
        "colab": {
          "base_uri": "https://localhost:8080/"
        },
        "id": "RmAomy09zgvo",
        "outputId": "20acba2f-3ba5-45bb-d01c-d67e87a7e9c0"
      },
      "source": [
        "!pip install jovian --upgrade --quiet"
      ],
      "execution_count": 37,
      "outputs": [
        {
          "output_type": "stream",
          "name": "stdout",
          "text": [
            "\u001b[?25l\r\u001b[K     |████▊                           | 10 kB 27.8 MB/s eta 0:00:01\r\u001b[K     |█████████▌                      | 20 kB 34.2 MB/s eta 0:00:01\r\u001b[K     |██████████████▎                 | 30 kB 36.3 MB/s eta 0:00:01\r\u001b[K     |███████████████████             | 40 kB 28.3 MB/s eta 0:00:01\r\u001b[K     |███████████████████████▉        | 51 kB 16.3 MB/s eta 0:00:01\r\u001b[K     |████████████████████████████▋   | 61 kB 16.9 MB/s eta 0:00:01\r\u001b[K     |████████████████████████████████| 68 kB 4.5 MB/s \n",
            "\u001b[?25h  Building wheel for uuid (setup.py) ... \u001b[?25l\u001b[?25hdone\n"
          ]
        }
      ]
    },
    {
      "cell_type": "code",
      "metadata": {
        "id": "ek1UjFdpzoV1"
      },
      "source": [
        "import jovian"
      ],
      "execution_count": 38,
      "outputs": []
    },
    {
      "cell_type": "code",
      "metadata": {
        "colab": {
          "base_uri": "https://localhost:8080/"
        },
        "id": "yOgJVgRozrXZ",
        "outputId": "aefc4781-16c2-4d8f-bb9d-635b4b5a5130"
      },
      "source": [
        "jovian.commit()"
      ],
      "execution_count": 39,
      "outputs": [
        {
          "output_type": "stream",
          "name": "stdout",
          "text": [
            "[jovian] Detected Colab notebook...\u001b[0m\n"
          ]
        },
        {
          "output_type": "stream",
          "name": "stderr",
          "text": [
            "\u001b[31m[jovian] Error: jovian.commit doesn't work on Colab unless the notebook was created and executed from Jovian.\n",
            "Make sure to run the first code cell at the top after executing from Jovian.\n",
            "Alternatively, you can download this notebook and upload it manually to Jovian.\n",
            "Learn more: https://jovian.ai/docs/user-guide/run.html#run-on-colab\u001b[0m\n"
          ]
        }
      ]
    },
    {
      "cell_type": "code",
      "metadata": {
        "colab": {
          "base_uri": "https://localhost:8080/"
        },
        "id": "EYsG7PDT6Bew",
        "outputId": "30a3631b-fb46-4fb6-831f-2b69dfd6e25a"
      },
      "source": [
        "inputs = np.array([[73, 67, 43], \n",
        "                   [91, 88, 64], \n",
        "                   [87, 134, 58], \n",
        "                   [102, 43, 37], \n",
        "                   [69, 96, 70]], dtype='float32')\n",
        "inputs"
      ],
      "execution_count": 11,
      "outputs": [
        {
          "output_type": "execute_result",
          "data": {
            "text/plain": [
              "array([[ 73.,  67.,  43.],\n",
              "       [ 91.,  88.,  64.],\n",
              "       [ 87., 134.,  58.],\n",
              "       [102.,  43.,  37.],\n",
              "       [ 69.,  96.,  70.]], dtype=float32)"
            ]
          },
          "metadata": {},
          "execution_count": 11
        }
      ]
    },
    {
      "cell_type": "code",
      "metadata": {
        "colab": {
          "base_uri": "https://localhost:8080/"
        },
        "id": "0C47_NEa6GLC",
        "outputId": "4d828dc1-4bc4-4acc-9b16-2a3960711fa9"
      },
      "source": [
        "targets=np.array([[56,70],[81,101],[119,133],[22,37],[103,119]], dtype='float32')\n",
        "targets"
      ],
      "execution_count": 12,
      "outputs": [
        {
          "output_type": "execute_result",
          "data": {
            "text/plain": [
              "array([[ 56.,  70.],\n",
              "       [ 81., 101.],\n",
              "       [119., 133.],\n",
              "       [ 22.,  37.],\n",
              "       [103., 119.]], dtype=float32)"
            ]
          },
          "metadata": {},
          "execution_count": 12
        }
      ]
    },
    {
      "cell_type": "code",
      "metadata": {
        "colab": {
          "base_uri": "https://localhost:8080/"
        },
        "id": "GdyMMVOV66Wd",
        "outputId": "7d841f6d-ce39-4e60-b9a2-d8ac399c8c6f"
      },
      "source": [
        "inputs=torch.from_numpy(inputs)\n",
        "inputs"
      ],
      "execution_count": 13,
      "outputs": [
        {
          "output_type": "execute_result",
          "data": {
            "text/plain": [
              "tensor([[ 73.,  67.,  43.],\n",
              "        [ 91.,  88.,  64.],\n",
              "        [ 87., 134.,  58.],\n",
              "        [102.,  43.,  37.],\n",
              "        [ 69.,  96.,  70.]])"
            ]
          },
          "metadata": {},
          "execution_count": 13
        }
      ]
    },
    {
      "cell_type": "code",
      "metadata": {
        "colab": {
          "base_uri": "https://localhost:8080/"
        },
        "id": "CL28EiZc66oQ",
        "outputId": "3868e89b-2270-4a1f-cfac-054de6471318"
      },
      "source": [
        "targets=torch.from_numpy(targets)\n",
        "targets"
      ],
      "execution_count": 14,
      "outputs": [
        {
          "output_type": "execute_result",
          "data": {
            "text/plain": [
              "tensor([[ 56.,  70.],\n",
              "        [ 81., 101.],\n",
              "        [119., 133.],\n",
              "        [ 22.,  37.],\n",
              "        [103., 119.]])"
            ]
          },
          "metadata": {},
          "execution_count": 14
        }
      ]
    },
    {
      "cell_type": "code",
      "metadata": {
        "colab": {
          "base_uri": "https://localhost:8080/"
        },
        "id": "BJ8E9taDhsaF",
        "outputId": "de38a4a5-1089-4901-f093-0701e123d10b"
      },
      "source": [
        "w=torch.randn(2,3,requires_grad=True)\n",
        "w"
      ],
      "execution_count": 15,
      "outputs": [
        {
          "output_type": "execute_result",
          "data": {
            "text/plain": [
              "tensor([[ 0.5891, -0.1445,  0.5406],\n",
              "        [ 0.5437,  0.5903,  0.6183]], requires_grad=True)"
            ]
          },
          "metadata": {},
          "execution_count": 15
        }
      ]
    },
    {
      "cell_type": "code",
      "metadata": {
        "colab": {
          "base_uri": "https://localhost:8080/"
        },
        "id": "W0hAcMbP7tNM",
        "outputId": "f417383e-aafc-4ac3-cafe-aaff3d26d187"
      },
      "source": [
        "b=torch.randn(2,requires_grad=True) \n",
        "b"
      ],
      "execution_count": 28,
      "outputs": [
        {
          "output_type": "execute_result",
          "data": {
            "text/plain": [
              "tensor([-0.2010,  0.9786], requires_grad=True)"
            ]
          },
          "metadata": {},
          "execution_count": 28
        }
      ]
    },
    {
      "cell_type": "code",
      "metadata": {
        "id": "aC_rujAwGaz9"
      },
      "source": [
        "def model(x):\n",
        "  return x@w.t()+b"
      ],
      "execution_count": 29,
      "outputs": []
    },
    {
      "cell_type": "code",
      "metadata": {
        "colab": {
          "base_uri": "https://localhost:8080/"
        },
        "id": "LrtNt0sPGsTp",
        "outputId": "f624110c-a560-4714-f4a7-6fd93877f76d"
      },
      "source": [
        "pred=model(inputs)\n",
        "print(pred)"
      ],
      "execution_count": 30,
      "outputs": [
        {
          "output_type": "stream",
          "name": "stdout",
          "text": [
            "tensor([[ 56.3680, 106.7996],\n",
            "        [ 75.2897, 141.9651],\n",
            "        [ 63.0435, 163.2325],\n",
            "        [ 73.6766, 104.6894],\n",
            "        [ 64.4167, 138.4366]], grad_fn=<AddBackward0>)\n"
          ]
        }
      ]
    },
    {
      "cell_type": "code",
      "metadata": {
        "colab": {
          "base_uri": "https://localhost:8080/"
        },
        "id": "Y--5dabJHFmq",
        "outputId": "c7d04148-5638-4c92-b556-39a75ffb63fc"
      },
      "source": [
        "print(targets)"
      ],
      "execution_count": 31,
      "outputs": [
        {
          "output_type": "stream",
          "name": "stdout",
          "text": [
            "tensor([[ 56.,  70.],\n",
            "        [ 81., 101.],\n",
            "        [119., 133.],\n",
            "        [ 22.,  37.],\n",
            "        [103., 119.]])\n"
          ]
        }
      ]
    },
    {
      "cell_type": "code",
      "metadata": {
        "id": "VP5BwrxGL_su"
      },
      "source": [
        "def mse(t1,t2):\n",
        "  diff=t1-t2\n",
        "  return torch.sum(diff*diff)/diff.numel()"
      ],
      "execution_count": 32,
      "outputs": []
    },
    {
      "cell_type": "code",
      "metadata": {
        "colab": {
          "base_uri": "https://localhost:8080/"
        },
        "id": "qC76-evfMil6",
        "outputId": "8778b906-dd92-4b9b-dac8-ba12c7e93b96"
      },
      "source": [
        "loss=mse(pred,targets)\n",
        "print(loss)"
      ],
      "execution_count": 33,
      "outputs": [
        {
          "output_type": "stream",
          "name": "stdout",
          "text": [
            "tensor(1622.9014, grad_fn=<DivBackward0>)\n"
          ]
        }
      ]
    },
    {
      "cell_type": "code",
      "metadata": {
        "colab": {
          "base_uri": "https://localhost:8080/"
        },
        "id": "czgednyOQJm1",
        "outputId": "f6ba767d-5fdc-43a7-870a-e705d3d1d40b"
      },
      "source": [
        "print(w)"
      ],
      "execution_count": 22,
      "outputs": [
        {
          "output_type": "stream",
          "name": "stdout",
          "text": [
            "tensor([[ 0.5891, -0.1445,  0.5406],\n",
            "        [ 0.5437,  0.5903,  0.6183]], requires_grad=True)\n"
          ]
        }
      ]
    },
    {
      "cell_type": "code",
      "metadata": {
        "id": "9UcZxk3jLmK0"
      },
      "source": [
        "loss.backward()"
      ],
      "execution_count": 34,
      "outputs": []
    },
    {
      "cell_type": "code",
      "metadata": {
        "colab": {
          "base_uri": "https://localhost:8080/"
        },
        "id": "rBArMIZ8QMdP",
        "outputId": "f7293a10-d503-4ffb-8a82-d5f02b33679c"
      },
      "source": [
        "print(w.grad)"
      ],
      "execution_count": 35,
      "outputs": [
        {
          "output_type": "stream",
          "name": "stdout",
          "text": [
            "tensor([[ -550.4449, -1891.5859,  -876.7823],\n",
            "        [ 3457.9736,  2979.6443,  1964.5415]])\n"
          ]
        }
      ]
    },
    {
      "cell_type": "code",
      "metadata": {
        "colab": {
          "base_uri": "https://localhost:8080/",
          "height": 164
        },
        "id": "PVg_7Z5qQjDp",
        "outputId": "f19c44d6-bf99-4b0f-bee8-69f7a9b7771d"
      },
      "source": [
        ""
      ],
      "execution_count": 65,
      "outputs": [
        {
          "output_type": "error",
          "ename": "TypeError",
          "evalue": "ignored",
          "traceback": [
            "\u001b[0;31m---------------------------------------------------------------------------\u001b[0m",
            "\u001b[0;31mTypeError\u001b[0m                                 Traceback (most recent call last)",
            "\u001b[0;32m<ipython-input-65-f93df99e2c4c>\u001b[0m in \u001b[0;36m<module>\u001b[0;34m()\u001b[0m\n\u001b[0;32m----> 1\u001b[0;31m \u001b[0mloss\u001b[0m\u001b[0;34m=\u001b[0m\u001b[0mloss\u001b[0m\u001b[0;34m,\u001b[0m \u001b[0mrequires_grad\u001b[0m\u001b[0;34m=\u001b[0m\u001b[0;32mTrue\u001b[0m\u001b[0;34m\u001b[0m\u001b[0;34m\u001b[0m\u001b[0m\n\u001b[0m",
            "\u001b[0;31mTypeError\u001b[0m: cannot unpack non-iterable bool object"
          ]
        }
      ]
    },
    {
      "cell_type": "code",
      "metadata": {
        "colab": {
          "base_uri": "https://localhost:8080/"
        },
        "id": "nQ8l-buOO9sw",
        "outputId": "e3c941df-58ef-486e-eab4-b1880bbb65f2"
      },
      "source": [
        "b"
      ],
      "execution_count": 36,
      "outputs": [
        {
          "output_type": "execute_result",
          "data": {
            "text/plain": [
              "tensor([-0.2010,  0.9786], requires_grad=True)"
            ]
          },
          "metadata": {},
          "execution_count": 36
        }
      ]
    },
    {
      "cell_type": "code",
      "metadata": {
        "colab": {
          "base_uri": "https://localhost:8080/"
        },
        "id": "8I0rFhhzVUJL",
        "outputId": "8925c0ea-340e-4458-f309-f30094b2e7a5"
      },
      "source": [
        "print(b.grad)"
      ],
      "execution_count": 37,
      "outputs": [
        {
          "output_type": "stream",
          "name": "stdout",
          "text": [
            "tensor([-9.6411, 39.0247])\n"
          ]
        }
      ]
    },
    {
      "cell_type": "code",
      "metadata": {
        "colab": {
          "base_uri": "https://localhost:8080/"
        },
        "id": "vI1VAQNvMoHp",
        "outputId": "3aa0b93f-e31d-466c-ccf6-881d529bccd8"
      },
      "source": [
        "b.grad.zero_()"
      ],
      "execution_count": 38,
      "outputs": [
        {
          "output_type": "execute_result",
          "data": {
            "text/plain": [
              "tensor([0., 0.])"
            ]
          },
          "metadata": {},
          "execution_count": 38
        }
      ]
    },
    {
      "cell_type": "code",
      "metadata": {
        "colab": {
          "base_uri": "https://localhost:8080/"
        },
        "id": "J-LDjJSAMyIi",
        "outputId": "0f5b6022-94c9-4e4b-9ee0-ff61648b66b7"
      },
      "source": [
        "w.grad.zero_()"
      ],
      "execution_count": 39,
      "outputs": [
        {
          "output_type": "execute_result",
          "data": {
            "text/plain": [
              "tensor([[0., 0., 0.],\n",
              "        [0., 0., 0.]])"
            ]
          },
          "metadata": {},
          "execution_count": 39
        }
      ]
    },
    {
      "cell_type": "code",
      "metadata": {
        "colab": {
          "base_uri": "https://localhost:8080/"
        },
        "id": "1jgaKbPrM9Ir",
        "outputId": "42db20cb-850a-45fb-feca-a971324bd3a8"
      },
      "source": [
        "print(b.grad)\n",
        "print(w.grad)"
      ],
      "execution_count": 40,
      "outputs": [
        {
          "output_type": "stream",
          "name": "stdout",
          "text": [
            "tensor([0., 0.])\n",
            "tensor([[0., 0., 0.],\n",
            "        [0., 0., 0.]])\n"
          ]
        }
      ]
    },
    {
      "cell_type": "code",
      "metadata": {
        "colab": {
          "base_uri": "https://localhost:8080/"
        },
        "id": "CD68betKNeAT",
        "outputId": "66171d6d-2c24-4459-d523-090653a5d0d3"
      },
      "source": [
        "pred=model(inputs)\n",
        "pred"
      ],
      "execution_count": 41,
      "outputs": [
        {
          "output_type": "execute_result",
          "data": {
            "text/plain": [
              "tensor([[ 56.3680, 106.7996],\n",
              "        [ 75.2897, 141.9651],\n",
              "        [ 63.0435, 163.2325],\n",
              "        [ 73.6766, 104.6894],\n",
              "        [ 64.4167, 138.4366]], grad_fn=<AddBackward0>)"
            ]
          },
          "metadata": {},
          "execution_count": 41
        }
      ]
    },
    {
      "cell_type": "code",
      "metadata": {
        "colab": {
          "base_uri": "https://localhost:8080/"
        },
        "id": "mXTwOJnFNeIQ",
        "outputId": "2b76e27b-2278-4527-b7e6-054fbe0319b9"
      },
      "source": [
        "loss=mse(pred,targets)\n",
        "print(loss)"
      ],
      "execution_count": 42,
      "outputs": [
        {
          "output_type": "stream",
          "name": "stdout",
          "text": [
            "tensor(1622.9014, grad_fn=<DivBackward0>)\n"
          ]
        }
      ]
    },
    {
      "cell_type": "code",
      "metadata": {
        "id": "A-fPFMfGOF61"
      },
      "source": [
        "loss.backward()"
      ],
      "execution_count": 43,
      "outputs": []
    },
    {
      "cell_type": "code",
      "metadata": {
        "colab": {
          "base_uri": "https://localhost:8080/"
        },
        "id": "_RA5QWqpMoVh",
        "outputId": "b7bb1bbd-7092-4017-b5e0-09a32e8dbc10"
      },
      "source": [
        "print(b.grad)\n",
        "print(w.grad)"
      ],
      "execution_count": 44,
      "outputs": [
        {
          "output_type": "stream",
          "name": "stdout",
          "text": [
            "tensor([-9.6411, 39.0247])\n",
            "tensor([[ -550.4449, -1891.5859,  -876.7823],\n",
            "        [ 3457.9736,  2979.6443,  1964.5415]])\n"
          ]
        }
      ]
    },
    {
      "cell_type": "code",
      "metadata": {
        "id": "R7kNEx_xPXJn"
      },
      "source": [
        "with torch.no_grad():\n",
        "  w-=w.grad*1e-5\n",
        "  b-=b.grad*1e-5\n",
        "  w.grad.zero_()\n",
        "  b.grad.zero_()"
      ],
      "execution_count": 49,
      "outputs": []
    },
    {
      "cell_type": "code",
      "metadata": {
        "colab": {
          "base_uri": "https://localhost:8080/"
        },
        "id": "wX-cd0FfPXiA",
        "outputId": "90473e2e-2b4c-4c0d-bdb0-6d8f8160252f"
      },
      "source": [
        "print(b.grad)"
      ],
      "execution_count": 50,
      "outputs": [
        {
          "output_type": "stream",
          "name": "stdout",
          "text": [
            "tensor([0., 0.])\n"
          ]
        }
      ]
    },
    {
      "cell_type": "code",
      "metadata": {
        "colab": {
          "base_uri": "https://localhost:8080/"
        },
        "id": "0qaMoCoAWnwS",
        "outputId": "2aabe916-a407-4080-e35a-6eaac36ca786"
      },
      "source": [
        "print(b)"
      ],
      "execution_count": 51,
      "outputs": [
        {
          "output_type": "stream",
          "name": "stdout",
          "text": [
            "tensor([-0.2009,  0.9782], requires_grad=True)\n"
          ]
        }
      ]
    },
    {
      "cell_type": "code",
      "metadata": {
        "colab": {
          "base_uri": "https://localhost:8080/"
        },
        "id": "Ix3sWi2qWnzc",
        "outputId": "7392058d-245f-436c-c6ee-d3904aff97d6"
      },
      "source": [
        "print(w)"
      ],
      "execution_count": 52,
      "outputs": [
        {
          "output_type": "stream",
          "name": "stdout",
          "text": [
            "tensor([[ 0.5946, -0.1256,  0.5493],\n",
            "        [ 0.5091,  0.5605,  0.5987]], requires_grad=True)\n"
          ]
        }
      ]
    },
    {
      "cell_type": "code",
      "metadata": {
        "colab": {
          "base_uri": "https://localhost:8080/"
        },
        "id": "txr4C0HmY5Tn",
        "outputId": "2a998571-f5cf-4984-da3b-a9f2710c9f22"
      },
      "source": [
        "pred=model(inputs)\n",
        "loss=mse(pred,targets)\n",
        "loss"
      ],
      "execution_count": 53,
      "outputs": [
        {
          "output_type": "execute_result",
          "data": {
            "text/plain": [
              "tensor(1354.8083, grad_fn=<DivBackward0>)"
            ]
          },
          "metadata": {},
          "execution_count": 53
        }
      ]
    },
    {
      "cell_type": "code",
      "metadata": {
        "id": "o6Up8dXzY5c8"
      },
      "source": [
        "for i in range(1000):\n",
        "  pred=model(inputs)\n",
        "  loss=mse(pred,targets)\n",
        "  loss.backward()\n",
        "  with torch.no_grad():\n",
        "    w-=w.grad*1e-5\n",
        "    b-=b.grad*1e-5\n",
        "    w.grad.zero_()\n",
        "    b.grad.zero_()\n",
        "  "
      ],
      "execution_count": 59,
      "outputs": []
    },
    {
      "cell_type": "code",
      "metadata": {
        "colab": {
          "base_uri": "https://localhost:8080/"
        },
        "id": "pZvl4MJFae3H",
        "outputId": "25586868-0a65-4df6-875f-9a9ed8393870"
      },
      "source": [
        "pred=model(inputs)\n",
        "loss=mse(pred,targets)\n",
        "print(loss)"
      ],
      "execution_count": 60,
      "outputs": [
        {
          "output_type": "stream",
          "name": "stdout",
          "text": [
            "tensor(1.3608, grad_fn=<DivBackward0>)\n"
          ]
        }
      ]
    },
    {
      "cell_type": "code",
      "metadata": {
        "colab": {
          "base_uri": "https://localhost:8080/"
        },
        "id": "uzwlDnMLbVtX",
        "outputId": "1ed110df-b6b5-4621-f49c-a44d1da08c32"
      },
      "source": [
        "print(targets)"
      ],
      "execution_count": 61,
      "outputs": [
        {
          "output_type": "stream",
          "name": "stdout",
          "text": [
            "tensor([[ 56.,  70.],\n",
            "        [ 81., 101.],\n",
            "        [119., 133.],\n",
            "        [ 22.,  37.],\n",
            "        [103., 119.]])\n"
          ]
        }
      ]
    },
    {
      "cell_type": "code",
      "metadata": {
        "colab": {
          "base_uri": "https://localhost:8080/"
        },
        "id": "pPae_HaWbY-o",
        "outputId": "9779b28b-3df2-4b1c-b1ef-a51a03671773"
      },
      "source": [
        "print(pred)"
      ],
      "execution_count": 62,
      "outputs": [
        {
          "output_type": "stream",
          "name": "stdout",
          "text": [
            "tensor([[ 57.1387,  70.5858],\n",
            "        [ 82.2506,  99.6644],\n",
            "        [118.6355, 134.8040],\n",
            "        [ 21.1367,  37.5581],\n",
            "        [101.9231, 117.2632]], grad_fn=<AddBackward0>)\n"
          ]
        }
      ]
    }
  ]
}